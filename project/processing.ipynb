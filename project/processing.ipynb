{
 "cells": [
  {
   "cell_type": "code",
   "execution_count": 6,
   "metadata": {},
   "outputs": [],
   "source": [
    "import pandas as pd\n",
    "import warnings\n",
    "warnings.filterwarnings(\"ignore\", category=UserWarning)\n",
    "from statsmodels.tsa.arima.model import ARIMA\n"
   ]
  },
  {
   "cell_type": "code",
   "execution_count": 7,
   "metadata": {},
   "outputs": [],
   "source": [
    "def load_and_preprocess_dataset(file_path):\n",
    "    data = pd.read_csv(file_path)\n",
    "    if 'Datetime' in data.columns:\n",
    "        data['Datetime'] = pd.to_datetime(data['Datetime'])\n",
    "    if 'Datetime' in data.columns:\n",
    "        data = data.sort_values('Datetime')\n",
    "    print(data.head())\n",
    "    return data\n"
   ]
  },
  {
   "cell_type": "code",
   "execution_count": 8,
   "metadata": {},
   "outputs": [],
   "source": [
    "\n",
    "def fit_arima_model(data, p, d, q):\n",
    "    model = ARIMA(data, order=(p, d, q))\n",
    "    result = model.fit()\n",
    "\n",
    "    return result"
   ]
  },
  {
   "cell_type": "code",
   "execution_count": 9,
   "metadata": {},
   "outputs": [
    {
     "name": "stdout",
     "output_type": "stream",
     "text": [
      "                Datetime   AEP_MW\n",
      "2183 2004-10-01 01:00:00  12379.0\n",
      "2184 2004-10-01 02:00:00  11935.0\n",
      "2185 2004-10-01 03:00:00  11692.0\n",
      "2186 2004-10-01 04:00:00  11597.0\n",
      "2187 2004-10-01 05:00:00  11681.0\n"
     ]
    }
   ],
   "source": [
    "file_path = 'dataset/AEP_hourly.csv'\n",
    "data = load_and_preprocess_dataset(file_path)"
   ]
  },
  {
   "cell_type": "code",
   "execution_count": 10,
   "metadata": {},
   "outputs": [
    {
     "name": "stdout",
     "output_type": "stream",
     "text": [
      "                               SARIMAX Results                                \n",
      "==============================================================================\n",
      "Dep. Variable:                 AEP_MW   No. Observations:               121273\n",
      "Model:                 ARIMA(2, 1, 2)   Log Likelihood             -866033.335\n",
      "Date:                Sat, 11 May 2024   AIC                        1732076.669\n",
      "Time:                        16:48:53   BIC                        1732125.198\n",
      "Sample:                             0   HQIC                       1732091.270\n",
      "                             - 121273                                         \n",
      "Covariance Type:                  opg                                         \n",
      "==============================================================================\n",
      "                 coef    std err          z      P>|z|      [0.025      0.975]\n",
      "------------------------------------------------------------------------------\n",
      "ar.L1          1.6725      0.002    963.602      0.000       1.669       1.676\n",
      "ar.L2         -0.7632      0.002   -460.812      0.000      -0.766      -0.760\n",
      "ma.L1         -0.7109      0.001   -589.043      0.000      -0.713      -0.709\n",
      "ma.L2         -0.2412      0.001   -225.278      0.000      -0.243      -0.239\n",
      "sigma2      9.336e+04    110.748    842.962      0.000    9.31e+04    9.36e+04\n",
      "===================================================================================\n",
      "Ljung-Box (L1) (Q):                  20.43   Jarque-Bera (JB):         106741144.14\n",
      "Prob(Q):                              0.00   Prob(JB):                         0.00\n",
      "Heteroskedasticity (H):               0.65   Skew:                            -1.39\n",
      "Prob(H) (two-sided):                  0.00   Kurtosis:                       148.32\n",
      "===================================================================================\n",
      "\n",
      "Warnings:\n",
      "[1] Covariance matrix calculated using the outer product of gradients (complex-step).\n"
     ]
    }
   ],
   "source": [
    "p = 2  # Autoregressive (AR) order\n",
    "d = 1  # Integrated (I) order (number of differences)\n",
    "q = 2  # Moving Average (MA) order\n",
    "\n",
    "result = fit_arima_model(data['AEP_MW'], p, d, q)\n",
    "print(result.summary())\n"
   ]
  },
  {
   "cell_type": "code",
   "execution_count": 11,
   "metadata": {},
   "outputs": [
    {
     "name": "stdout",
     "output_type": "stream",
     "text": [
      "Forecasted Values:\n",
      " 121273    13947.046152\n",
      "121274    13422.035326\n",
      "121275    13201.772870\n",
      "121276    13234.053625\n",
      "121277    13456.135577\n",
      "121278    13802.925190\n",
      "121279    14213.437301\n",
      "121280    14635.352430\n",
      "121281    15027.708858\n",
      "121282    15361.927115\n",
      "121283    15621.468957\n",
      "121284    15800.485162\n",
      "121285    15901.814272\n",
      "121286    15934.667495\n",
      "121287    15912.284033\n",
      "121288    15849.776475\n",
      "121289    15762.316614\n",
      "121290    15663.745588\n",
      "121291    15565.633877\n",
      "121292    15476.769848\n",
      "121293    15403.021735\n",
      "121294    15347.497114\n",
      "121295    15310.914955\n",
      "121296    15292.106164\n",
      "Name: predicted_mean, dtype: float64\n"
     ]
    },
    {
     "name": "stderr",
     "output_type": "stream",
     "text": [
      "/home/faizan/uni/dmLab/project/env/lib/python3.10/site-packages/statsmodels/tsa/base/tsa_model.py:836: FutureWarning: No supported index is available. In the next version, calling this method in a model without a supported index will result in an exception.\n",
      "  return get_prediction_index(\n"
     ]
    }
   ],
   "source": [
    "forecast_steps = 24  #forecast next 24 time steps (hours)\n",
    "forecast = result.forecast(steps=forecast_steps)\n",
    "print(\"Forecasted Values:\\n\", forecast)\n"
   ]
  },
  {
   "cell_type": "code",
   "execution_count": 12,
   "metadata": {},
   "outputs": [
    {
     "data": {
      "text/plain": [
       "121273    13947.046152\n",
       "121274    13422.035326\n",
       "121275    13201.772870\n",
       "121276    13234.053625\n",
       "121277    13456.135577\n",
       "121278    13802.925190\n",
       "121279    14213.437301\n",
       "121280    14635.352430\n",
       "121281    15027.708858\n",
       "121282    15361.927115\n",
       "121283    15621.468957\n",
       "121284    15800.485162\n",
       "121285    15901.814272\n",
       "121286    15934.667495\n",
       "121287    15912.284033\n",
       "121288    15849.776475\n",
       "121289    15762.316614\n",
       "121290    15663.745588\n",
       "121291    15565.633877\n",
       "121292    15476.769848\n",
       "121293    15403.021735\n",
       "121294    15347.497114\n",
       "121295    15310.914955\n",
       "121296    15292.106164\n",
       "Name: predicted_mean, dtype: float64"
      ]
     },
     "execution_count": 12,
     "metadata": {},
     "output_type": "execute_result"
    }
   ],
   "source": [
    "forecast"
   ]
  },
  {
   "cell_type": "code",
   "execution_count": null,
   "metadata": {},
   "outputs": [],
   "source": []
  }
 ],
 "metadata": {
  "kernelspec": {
   "display_name": "env",
   "language": "python",
   "name": "python3"
  },
  "language_info": {
   "codemirror_mode": {
    "name": "ipython",
    "version": 3
   },
   "file_extension": ".py",
   "mimetype": "text/x-python",
   "name": "python",
   "nbconvert_exporter": "python",
   "pygments_lexer": "ipython3",
   "version": "3.10.12"
  }
 },
 "nbformat": 4,
 "nbformat_minor": 2
}
